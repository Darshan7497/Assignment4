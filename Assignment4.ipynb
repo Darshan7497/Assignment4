{
 "cells": [
  {
   "cell_type": "markdown",
   "id": "44e44862-48af-4449-b0c3-de47b4b6b283",
   "metadata": {},
   "source": [
    "Q1. Which keyword is used to create a function? Create a function to return a list of odd numbers in the\n",
    "range of 1 to 25."
   ]
  },
  {
   "cell_type": "markdown",
   "id": "90b2f29b-58e7-40cd-9a77-21f51702329f",
   "metadata": {},
   "source": [
    "def keywpord is used to create a function."
   ]
  },
  {
   "cell_type": "code",
   "execution_count": 13,
   "id": "54d905f0-8567-4b92-b788-23fa8a7f54a1",
   "metadata": {},
   "outputs": [],
   "source": [
    "def odd(d):\n",
    "    l = []\n",
    "    for i in range(1,d+1):\n",
    "        if i%2 != 0:\n",
    "            l.append(i)\n",
    "    return l"
   ]
  },
  {
   "cell_type": "code",
   "execution_count": 15,
   "id": "410359f7-c252-4ae1-a371-66d0d219120b",
   "metadata": {},
   "outputs": [
    {
     "data": {
      "text/plain": [
       "[1, 3, 5, 7, 9, 11, 13, 15, 17, 19, 21, 23, 25]"
      ]
     },
     "execution_count": 15,
     "metadata": {},
     "output_type": "execute_result"
    }
   ],
   "source": [
    "odd(25)"
   ]
  },
  {
   "cell_type": "markdown",
   "id": "af95a0f6-6c6b-4a1d-9795-00baf30b16d0",
   "metadata": {},
   "source": [
    "Q2. Why *args and **kwargs is used in some functions? Create a function each for *args and **kwargs\n",
    "to demonstrate their use."
   ]
  },
  {
   "cell_type": "markdown",
   "id": "c79a778f-4973-4b43-bad8-b7ceccd09884",
   "metadata": {},
   "source": [
    "*args is used to pass n number of argument in the functions and stored in tuples.\n",
    "**kwargs is used for dictonary type. It allows us to pass a variable number of keyword arguments to a Python function. In the function, we use the double-asterisk (**) before the parameter name to denote this type of argument."
   ]
  },
  {
   "cell_type": "code",
   "execution_count": 20,
   "id": "6368d050-5fc3-4807-b05e-a690715aea9c",
   "metadata": {},
   "outputs": [],
   "source": [
    "def test1(*args):\n",
    "    return args\n",
    "\n",
    "def test2(**kwargs):\n",
    "    return kwargs"
   ]
  },
  {
   "cell_type": "code",
   "execution_count": 21,
   "id": "7b6f9282-dd62-477b-a53a-ce853f7b2df0",
   "metadata": {},
   "outputs": [
    {
     "data": {
      "text/plain": [
       "(1, 2, 3, 4, 5, 'darshan')"
      ]
     },
     "execution_count": 21,
     "metadata": {},
     "output_type": "execute_result"
    }
   ],
   "source": [
    "test1(1,2,3,4,5,\"darshan\")"
   ]
  },
  {
   "cell_type": "code",
   "execution_count": 25,
   "id": "8ed82b98-582a-454d-9a8f-c8ceb98600c5",
   "metadata": {},
   "outputs": [
    {
     "data": {
      "text/plain": [
       "{'name': 'darshan', 'course': 'data science', 'sub': 'pyothon'}"
      ]
     },
     "execution_count": 25,
     "metadata": {},
     "output_type": "execute_result"
    }
   ],
   "source": [
    "test2(name = \"darshan\" ,course= \"data science\" ,sub= \"pyothon\" )"
   ]
  },
  {
   "cell_type": "markdown",
   "id": "fdf3af29-3014-4f1d-b1c0-4051c16e0909",
   "metadata": {},
   "source": [
    "Q3. What is an iterator in python? Name the method used to initialise the iterator object and the method\n",
    "used for iteration. Use these methods to print the first five elements of the given list [2, 4, 6, 8, 10, 12, 14,\n",
    "16, 18, 20]."
   ]
  },
  {
   "cell_type": "markdown",
   "id": "875c9013-81d7-44b7-8933-dc98b164d032",
   "metadata": {},
   "source": [
    "An iterator is an object that can be iterated again and again.\n",
    " __iter__() and __next__ methods are used to implement iterator in python."
   ]
  },
  {
   "cell_type": "code",
   "execution_count": 33,
   "id": "7a0d994c-e032-44cc-9cee-dc9e88771725",
   "metadata": {},
   "outputs": [
    {
     "name": "stdout",
     "output_type": "stream",
     "text": [
      "2\n",
      "4\n",
      "6\n",
      "8\n",
      "10\n"
     ]
    }
   ],
   "source": [
    "l = [2, 4, 6, 8, 10, 12, 14, 16, 18, 20]\n",
    "it = iter(l)\n",
    "for i in range(5):\n",
    "    print (next(it))"
   ]
  },
  {
   "cell_type": "markdown",
   "id": "3f9c9024-12ca-482b-921e-3fa3f1907e30",
   "metadata": {},
   "source": [
    "Q4. What is a generator function in python? Why yield keyword is used? Give an example of a generator\n",
    "function."
   ]
  },
  {
   "cell_type": "markdown",
   "id": "d5dc340e-03e7-40a7-86da-a2fb3a24a030",
   "metadata": {},
   "source": [
    "In Python, a generator is a function that returns an iterator that produces a sequence of values when iterated over."
   ]
  },
  {
   "cell_type": "code",
   "execution_count": 9,
   "id": "f7942639-9626-40e9-8496-b71d2283d070",
   "metadata": {},
   "outputs": [],
   "source": [
    "def fbnc(n):\n",
    "    a,b=0,1\n",
    "    for i in range(n):\n",
    "        yield a\n",
    "        a,b= b, a+b\n",
    "    "
   ]
  },
  {
   "cell_type": "code",
   "execution_count": 11,
   "id": "75b3a5fb-db22-4d67-997a-6ca7e8634acc",
   "metadata": {},
   "outputs": [
    {
     "name": "stdout",
     "output_type": "stream",
     "text": [
      "0\n",
      "1\n",
      "1\n",
      "2\n",
      "3\n"
     ]
    }
   ],
   "source": [
    "for i in fbnc(5):\n",
    "    print(i)"
   ]
  },
  {
   "cell_type": "markdown",
   "id": "90dce09c-35ce-4d88-8734-08fd6e52ee45",
   "metadata": {},
   "source": [
    "Q5. Create a generator function for prime numbers less than 1000. Use the next() method to print the\n",
    "first 20 prime numbers."
   ]
  },
  {
   "cell_type": "code",
   "execution_count": 12,
   "id": "9ca7b34b-367b-4654-8223-476127fab299",
   "metadata": {},
   "outputs": [
    {
     "name": "stdout",
     "output_type": "stream",
     "text": [
      "2\n",
      "3\n",
      "5\n",
      "7\n",
      "11\n",
      "13\n",
      "17\n",
      "19\n",
      "23\n",
      "29\n",
      "31\n",
      "37\n",
      "41\n",
      "43\n",
      "47\n",
      "53\n",
      "59\n",
      "61\n",
      "67\n",
      "71\n"
     ]
    }
   ],
   "source": [
    "def prime_number(limit):\n",
    "    i = 2\n",
    "    while i < limit:\n",
    "        count = 0\n",
    "        j = 1\n",
    "        while (j < (int(i/2)+1)):\n",
    "            if (i % j == 0):\n",
    "                count += 1\n",
    "            j += 1\n",
    "        if (count < 2):\n",
    "            yield i\n",
    "        i += 1\n",
    "        \n",
    "primes = prime_number(1000)\n",
    "        \n",
    "for i in range(20):\n",
    "    print(next(primes))"
   ]
  },
  {
   "cell_type": "markdown",
   "id": "aacdaea8-dad2-4546-bbf9-ee68c34fbc62",
   "metadata": {},
   "source": [
    "Q6. Write a python program to print the first 10 Fibonacci numbers using a while loop."
   ]
  },
  {
   "cell_type": "code",
   "execution_count": 14,
   "id": "b3fcef9a-93bf-43f7-adf1-fd08a419ff24",
   "metadata": {},
   "outputs": [
    {
     "name": "stdin",
     "output_type": "stream",
     "text": [
      "Enter Number 10\n"
     ]
    },
    {
     "name": "stdout",
     "output_type": "stream",
     "text": [
      "0\n",
      "1\n",
      "1\n",
      "2\n",
      "3\n",
      "5\n",
      "8\n",
      "13\n",
      "21\n",
      "34\n"
     ]
    }
   ],
   "source": [
    "n= int(input(\"Enter Number\"))\n",
    "a,b=0,1\n",
    "counter=0\n",
    "while counter < n:\n",
    "    print(a)\n",
    "    c=a+b\n",
    "    a=b\n",
    "    b=c\n",
    "    counter = counter +1         "
   ]
  },
  {
   "cell_type": "markdown",
   "id": "cd90f5af-8faa-4de7-9a22-1255b13b2915",
   "metadata": {},
   "source": [
    "Q7. Write a List Comprehension to iterate through the given string: ‘pwskills’.\n",
    "Expected output: ['p', 'w', 's', 'k', 'i', 'l', 'l', 's']"
   ]
  },
  {
   "cell_type": "code",
   "execution_count": 17,
   "id": "6ccfe2cf-c28e-40dd-ba56-946fd94ec3e9",
   "metadata": {},
   "outputs": [],
   "source": [
    "l=  \"pwskills\""
   ]
  },
  {
   "cell_type": "code",
   "execution_count": 29,
   "id": "c04658af-d234-40ce-96bd-03a8fd6905b6",
   "metadata": {},
   "outputs": [
    {
     "data": {
      "text/plain": [
       "['p', 'w', 's', 'k', 'i', 'l', 'l', 's']"
      ]
     },
     "execution_count": 29,
     "metadata": {},
     "output_type": "execute_result"
    }
   ],
   "source": [
    "[i for i in l]"
   ]
  },
  {
   "cell_type": "markdown",
   "id": "5f3cea66-9fe5-4fed-b017-2423c1b031d3",
   "metadata": {},
   "source": [
    "Q8. Write a python program to check whether a given number is Palindrome or not using a while loop."
   ]
  },
  {
   "cell_type": "code",
   "execution_count": 31,
   "id": "8ba6a1d2-fb83-4c61-9de3-34b4eab107fe",
   "metadata": {},
   "outputs": [],
   "source": [
    "def palidrone(n):\n",
    "    return str(n) == str(n)[::-1]"
   ]
  },
  {
   "cell_type": "code",
   "execution_count": 33,
   "id": "3ede762c-fcbe-46d6-bb85-342868752d69",
   "metadata": {},
   "outputs": [
    {
     "name": "stdin",
     "output_type": "stream",
     "text": [
      "Enter a number:  9\n"
     ]
    },
    {
     "name": "stdout",
     "output_type": "stream",
     "text": [
      "The number is palidrone\n"
     ]
    }
   ],
   "source": [
    "n = int(input('Enter a number: '))\n",
    "if palidrone(n):\n",
    "    print('The number is palidrone')\n",
    "else:\n",
    "    print('The number is not palidrone')"
   ]
  },
  {
   "cell_type": "markdown",
   "id": "bac35c29-9371-46f7-acca-2810e5f670bc",
   "metadata": {},
   "source": [
    "Q9. Write a code to print odd numbers from 1 to 100 using list comprehension."
   ]
  },
  {
   "cell_type": "code",
   "execution_count": 34,
   "id": "ae33a697-2761-492c-8a8f-d57be6316bc0",
   "metadata": {},
   "outputs": [],
   "source": [
    "l = [i for i in range(1,101)]"
   ]
  },
  {
   "cell_type": "code",
   "execution_count": 35,
   "id": "b4fc9522-a275-49ec-8f54-9e28b0a1e977",
   "metadata": {},
   "outputs": [
    {
     "data": {
      "text/plain": [
       "[1,\n",
       " 3,\n",
       " 5,\n",
       " 7,\n",
       " 9,\n",
       " 11,\n",
       " 13,\n",
       " 15,\n",
       " 17,\n",
       " 19,\n",
       " 21,\n",
       " 23,\n",
       " 25,\n",
       " 27,\n",
       " 29,\n",
       " 31,\n",
       " 33,\n",
       " 35,\n",
       " 37,\n",
       " 39,\n",
       " 41,\n",
       " 43,\n",
       " 45,\n",
       " 47,\n",
       " 49,\n",
       " 51,\n",
       " 53,\n",
       " 55,\n",
       " 57,\n",
       " 59,\n",
       " 61,\n",
       " 63,\n",
       " 65,\n",
       " 67,\n",
       " 69,\n",
       " 71,\n",
       " 73,\n",
       " 75,\n",
       " 77,\n",
       " 79,\n",
       " 81,\n",
       " 83,\n",
       " 85,\n",
       " 87,\n",
       " 89,\n",
       " 91,\n",
       " 93,\n",
       " 95,\n",
       " 97,\n",
       " 99]"
      ]
     },
     "execution_count": 35,
     "metadata": {},
     "output_type": "execute_result"
    }
   ],
   "source": [
    "[i for i in l if i%2 != 0]"
   ]
  },
  {
   "cell_type": "code",
   "execution_count": null,
   "id": "5f702e89-54ac-4e24-8feb-321703fa6796",
   "metadata": {},
   "outputs": [],
   "source": []
  }
 ],
 "metadata": {
  "kernelspec": {
   "display_name": "Python 3 (ipykernel)",
   "language": "python",
   "name": "python3"
  },
  "language_info": {
   "codemirror_mode": {
    "name": "ipython",
    "version": 3
   },
   "file_extension": ".py",
   "mimetype": "text/x-python",
   "name": "python",
   "nbconvert_exporter": "python",
   "pygments_lexer": "ipython3",
   "version": "3.10.8"
  }
 },
 "nbformat": 4,
 "nbformat_minor": 5
}
